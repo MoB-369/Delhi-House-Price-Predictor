{
 "cells": [
  {
   "cell_type": "markdown",
   "metadata": {},
   "source": [
    "# 1. Problem Statement:\n",
    "We have to predict the price of house using various parameters:"
   ]
  },
  {
   "cell_type": "markdown",
   "metadata": {},
   "source": []
  },
  {
   "cell_type": "markdown",
   "metadata": {},
   "source": [
    "### 2. Data Collection\n",
    "- Dataset source: https://www.kaggle.com/datasets/goelyash/housing-price-dataset-of-delhiindia\n",
    "- The data consist of 18 columns and 7737 rows.\n"
   ]
  },
  {
   "cell_type": "markdown",
   "metadata": {},
   "source": [
    "### 2.1 Import data and required packages"
   ]
  },
  {
   "cell_type": "code",
   "execution_count": 2,
   "metadata": {},
   "outputs": [],
   "source": [
    "import numpy as np\n",
    "import pandas as pd\n",
    "import seaborn as sns\n",
    "import matplotlib.pyplot as plt\n",
    "%matplotlib inline\n",
    "import warnings\n",
    "warnings.filterwarnings('ignore')"
   ]
  },
  {
   "cell_type": "code",
   "execution_count": 21,
   "metadata": {},
   "outputs": [],
   "source": [
    "# Import the CSV data as pandas dataframe\n",
    "\n",
    "df = pd.read_csv(\"dataset\\Delhi_v2.csv\")"
   ]
  },
  {
   "cell_type": "code",
   "execution_count": 4,
   "metadata": {},
   "outputs": [
    {
     "data": {
      "text/html": [
       "<div>\n",
       "<style scoped>\n",
       "    .dataframe tbody tr th:only-of-type {\n",
       "        vertical-align: middle;\n",
       "    }\n",
       "\n",
       "    .dataframe tbody tr th {\n",
       "        vertical-align: top;\n",
       "    }\n",
       "\n",
       "    .dataframe thead th {\n",
       "        text-align: right;\n",
       "    }\n",
       "</style>\n",
       "<table border=\"1\" class=\"dataframe\">\n",
       "  <thead>\n",
       "    <tr style=\"text-align: right;\">\n",
       "      <th></th>\n",
       "      <th>Unnamed: 0</th>\n",
       "      <th>price</th>\n",
       "      <th>Address</th>\n",
       "      <th>area</th>\n",
       "      <th>latitude</th>\n",
       "      <th>longitude</th>\n",
       "      <th>Bedrooms</th>\n",
       "      <th>Bathrooms</th>\n",
       "      <th>Balcony</th>\n",
       "      <th>Status</th>\n",
       "      <th>neworold</th>\n",
       "      <th>parking</th>\n",
       "      <th>Furnished_status</th>\n",
       "      <th>Lift</th>\n",
       "      <th>Landmarks</th>\n",
       "      <th>type_of_building</th>\n",
       "      <th>desc</th>\n",
       "      <th>Price_sqft</th>\n",
       "    </tr>\n",
       "  </thead>\n",
       "  <tbody>\n",
       "    <tr>\n",
       "      <th>0</th>\n",
       "      <td>0</td>\n",
       "      <td>5600000.0</td>\n",
       "      <td>Noida Extension, Noida, Delhi NCR</td>\n",
       "      <td>1350.0</td>\n",
       "      <td>28.608850</td>\n",
       "      <td>77.460560</td>\n",
       "      <td>3.0</td>\n",
       "      <td>3.0</td>\n",
       "      <td>NaN</td>\n",
       "      <td>Under Construction</td>\n",
       "      <td>New Property</td>\n",
       "      <td>NaN</td>\n",
       "      <td>NaN</td>\n",
       "      <td>2.0</td>\n",
       "      <td>NaN</td>\n",
       "      <td>Flat</td>\n",
       "      <td>\\n\\n\\n                                Welcome ...</td>\n",
       "      <td>4148.148148</td>\n",
       "    </tr>\n",
       "    <tr>\n",
       "      <th>1</th>\n",
       "      <td>1</td>\n",
       "      <td>8800000.0</td>\n",
       "      <td>Sector 79, Gurgaon, Delhi NCR</td>\n",
       "      <td>1490.0</td>\n",
       "      <td>28.374236</td>\n",
       "      <td>76.952416</td>\n",
       "      <td>3.0</td>\n",
       "      <td>3.0</td>\n",
       "      <td>NaN</td>\n",
       "      <td>Ready to Move</td>\n",
       "      <td>New Property</td>\n",
       "      <td>NaN</td>\n",
       "      <td>Semi-Furnished</td>\n",
       "      <td>2.0</td>\n",
       "      <td>NaN</td>\n",
       "      <td>Flat</td>\n",
       "      <td>\\n\\n\\n                                Mapsko M...</td>\n",
       "      <td>5906.040268</td>\n",
       "    </tr>\n",
       "    <tr>\n",
       "      <th>2</th>\n",
       "      <td>2</td>\n",
       "      <td>16500000.0</td>\n",
       "      <td>Vaishali, Ghaziabad, Delhi NCR</td>\n",
       "      <td>2385.0</td>\n",
       "      <td>28.645769</td>\n",
       "      <td>77.385110</td>\n",
       "      <td>4.0</td>\n",
       "      <td>5.0</td>\n",
       "      <td>NaN</td>\n",
       "      <td>Ready to Move</td>\n",
       "      <td>New Property</td>\n",
       "      <td>1.0</td>\n",
       "      <td>Unfurnished</td>\n",
       "      <td>NaN</td>\n",
       "      <td>NaN</td>\n",
       "      <td>Flat</td>\n",
       "      <td>\\n\\n\\n                                This pro...</td>\n",
       "      <td>6918.238994</td>\n",
       "    </tr>\n",
       "    <tr>\n",
       "      <th>3</th>\n",
       "      <td>3</td>\n",
       "      <td>3810000.0</td>\n",
       "      <td>Link Road, F Block, Sector 50, Noida, Uttar Pr...</td>\n",
       "      <td>1050.0</td>\n",
       "      <td>28.566914</td>\n",
       "      <td>77.436434</td>\n",
       "      <td>2.0</td>\n",
       "      <td>2.0</td>\n",
       "      <td>3.0</td>\n",
       "      <td>NaN</td>\n",
       "      <td>New Property</td>\n",
       "      <td>1.0</td>\n",
       "      <td>Unfurnished</td>\n",
       "      <td>2.0</td>\n",
       "      <td>near Gaur Mulberry Mansion</td>\n",
       "      <td>Flat</td>\n",
       "      <td>\\n\\n\\n                                AIG Roya...</td>\n",
       "      <td>3628.571429</td>\n",
       "    </tr>\n",
       "    <tr>\n",
       "      <th>4</th>\n",
       "      <td>4</td>\n",
       "      <td>6200000.0</td>\n",
       "      <td>Jaypee Pavilion Court Sector 128, Noida, Secto...</td>\n",
       "      <td>1350.0</td>\n",
       "      <td>28.520732</td>\n",
       "      <td>77.356491</td>\n",
       "      <td>2.0</td>\n",
       "      <td>2.0</td>\n",
       "      <td>3.0</td>\n",
       "      <td>Ready to Move</td>\n",
       "      <td>Resale</td>\n",
       "      <td>1.0</td>\n",
       "      <td>NaN</td>\n",
       "      <td>3.0</td>\n",
       "      <td>NaN</td>\n",
       "      <td>Flat</td>\n",
       "      <td>\\n\\n\\n                                The prop...</td>\n",
       "      <td>4592.592593</td>\n",
       "    </tr>\n",
       "  </tbody>\n",
       "</table>\n",
       "</div>"
      ],
      "text/plain": [
       "   Unnamed: 0       price                                            Address  \\\n",
       "0           0   5600000.0                  Noida Extension, Noida, Delhi NCR   \n",
       "1           1   8800000.0                      Sector 79, Gurgaon, Delhi NCR   \n",
       "2           2  16500000.0                     Vaishali, Ghaziabad, Delhi NCR   \n",
       "3           3   3810000.0  Link Road, F Block, Sector 50, Noida, Uttar Pr...   \n",
       "4           4   6200000.0  Jaypee Pavilion Court Sector 128, Noida, Secto...   \n",
       "\n",
       "     area   latitude  longitude  Bedrooms  Bathrooms  Balcony  \\\n",
       "0  1350.0  28.608850  77.460560       3.0        3.0      NaN   \n",
       "1  1490.0  28.374236  76.952416       3.0        3.0      NaN   \n",
       "2  2385.0  28.645769  77.385110       4.0        5.0      NaN   \n",
       "3  1050.0  28.566914  77.436434       2.0        2.0      3.0   \n",
       "4  1350.0  28.520732  77.356491       2.0        2.0      3.0   \n",
       "\n",
       "               Status      neworold  parking Furnished_status  Lift  \\\n",
       "0  Under Construction  New Property      NaN              NaN   2.0   \n",
       "1       Ready to Move  New Property      NaN   Semi-Furnished   2.0   \n",
       "2       Ready to Move  New Property      1.0      Unfurnished   NaN   \n",
       "3                 NaN  New Property      1.0      Unfurnished   2.0   \n",
       "4       Ready to Move        Resale      1.0              NaN   3.0   \n",
       "\n",
       "                    Landmarks type_of_building  \\\n",
       "0                         NaN             Flat   \n",
       "1                         NaN             Flat   \n",
       "2                         NaN             Flat   \n",
       "3  near Gaur Mulberry Mansion             Flat   \n",
       "4                         NaN             Flat   \n",
       "\n",
       "                                                desc   Price_sqft  \n",
       "0  \\n\\n\\n                                Welcome ...  4148.148148  \n",
       "1  \\n\\n\\n                                Mapsko M...  5906.040268  \n",
       "2  \\n\\n\\n                                This pro...  6918.238994  \n",
       "3  \\n\\n\\n                                AIG Roya...  3628.571429  \n",
       "4  \\n\\n\\n                                The prop...  4592.592593  "
      ]
     },
     "execution_count": 4,
     "metadata": {},
     "output_type": "execute_result"
    }
   ],
   "source": [
    "df.head()"
   ]
  },
  {
   "cell_type": "code",
   "execution_count": 5,
   "metadata": {},
   "outputs": [
    {
     "data": {
      "text/plain": [
       "(7738, 18)"
      ]
     },
     "execution_count": 5,
     "metadata": {},
     "output_type": "execute_result"
    }
   ],
   "source": [
    "df.shape"
   ]
  },
  {
   "cell_type": "markdown",
   "metadata": {},
   "source": [
    "### 3. Data checks to perform\n"
   ]
  },
  {
   "cell_type": "code",
   "execution_count": 6,
   "metadata": {},
   "outputs": [
    {
     "data": {
      "text/plain": [
       "Unnamed: 0             0\n",
       "price                  0\n",
       "Address                0\n",
       "area                   0\n",
       "latitude               0\n",
       "longitude              0\n",
       "Bedrooms               0\n",
       "Bathrooms              0\n",
       "Balcony             2572\n",
       "Status               574\n",
       "neworold               0\n",
       "parking             5126\n",
       "Furnished_status    3614\n",
       "Lift                6005\n",
       "Landmarks           4979\n",
       "type_of_building       0\n",
       "desc                   0\n",
       "Price_sqft             0\n",
       "dtype: int64"
      ]
     },
     "execution_count": 6,
     "metadata": {},
     "output_type": "execute_result"
    }
   ],
   "source": [
    "# 3.1 Checking missing values\n",
    "df.isna().sum()"
   ]
  },
  {
   "cell_type": "code",
   "execution_count": 7,
   "metadata": {},
   "outputs": [
    {
     "name": "stdout",
     "output_type": "stream",
     "text": [
      "<class 'pandas.core.frame.DataFrame'>\n",
      "RangeIndex: 7738 entries, 0 to 7737\n",
      "Data columns (total 18 columns):\n",
      " #   Column            Non-Null Count  Dtype  \n",
      "---  ------            --------------  -----  \n",
      " 0   Unnamed: 0        7738 non-null   int64  \n",
      " 1   price             7738 non-null   float64\n",
      " 2   Address           7738 non-null   object \n",
      " 3   area              7738 non-null   float64\n",
      " 4   latitude          7738 non-null   float64\n",
      " 5   longitude         7738 non-null   float64\n",
      " 6   Bedrooms          7738 non-null   float64\n",
      " 7   Bathrooms         7738 non-null   float64\n",
      " 8   Balcony           5166 non-null   float64\n",
      " 9   Status            7164 non-null   object \n",
      " 10  neworold          7738 non-null   object \n",
      " 11  parking           2612 non-null   float64\n",
      " 12  Furnished_status  4124 non-null   object \n",
      " 13  Lift              1733 non-null   float64\n",
      " 14  Landmarks         2759 non-null   object \n",
      " 15  type_of_building  7738 non-null   object \n",
      " 16  desc              7738 non-null   object \n",
      " 17  Price_sqft        7738 non-null   float64\n",
      "dtypes: float64(10), int64(1), object(7)\n",
      "memory usage: 1.1+ MB\n"
     ]
    }
   ],
   "source": [
    "df.info()"
   ]
  },
  {
   "cell_type": "code",
   "execution_count": 22,
   "metadata": {},
   "outputs": [
    {
     "data": {
      "text/plain": [
       "Unnamed: 0          7738\n",
       "price                584\n",
       "Address             4145\n",
       "area                1102\n",
       "latitude            2942\n",
       "longitude           2912\n",
       "Bedrooms               9\n",
       "Bathrooms              9\n",
       "Balcony               10\n",
       "Status                 2\n",
       "neworold               2\n",
       "parking               65\n",
       "Furnished_status       3\n",
       "Lift                  11\n",
       "Landmarks           2612\n",
       "type_of_building       2\n",
       "desc                4181\n",
       "Price_sqft          3946\n",
       "dtype: int64"
      ]
     },
     "execution_count": 22,
     "metadata": {},
     "output_type": "execute_result"
    }
   ],
   "source": [
    "df.nunique()"
   ]
  },
  {
   "cell_type": "code",
   "execution_count": 23,
   "metadata": {},
   "outputs": [],
   "source": [
    "df.drop(columns=[\"Unnamed: 0\",\"Landmarks\"],inplace=True)"
   ]
  },
  {
   "cell_type": "code",
   "execution_count": 24,
   "metadata": {},
   "outputs": [
    {
     "data": {
      "text/html": [
       "<div>\n",
       "<style scoped>\n",
       "    .dataframe tbody tr th:only-of-type {\n",
       "        vertical-align: middle;\n",
       "    }\n",
       "\n",
       "    .dataframe tbody tr th {\n",
       "        vertical-align: top;\n",
       "    }\n",
       "\n",
       "    .dataframe thead th {\n",
       "        text-align: right;\n",
       "    }\n",
       "</style>\n",
       "<table border=\"1\" class=\"dataframe\">\n",
       "  <thead>\n",
       "    <tr style=\"text-align: right;\">\n",
       "      <th></th>\n",
       "      <th>price</th>\n",
       "      <th>Address</th>\n",
       "      <th>area</th>\n",
       "      <th>latitude</th>\n",
       "      <th>longitude</th>\n",
       "      <th>Bedrooms</th>\n",
       "      <th>Bathrooms</th>\n",
       "      <th>Balcony</th>\n",
       "      <th>Status</th>\n",
       "      <th>neworold</th>\n",
       "      <th>parking</th>\n",
       "      <th>Furnished_status</th>\n",
       "      <th>Lift</th>\n",
       "      <th>type_of_building</th>\n",
       "      <th>desc</th>\n",
       "      <th>Price_sqft</th>\n",
       "    </tr>\n",
       "  </thead>\n",
       "  <tbody>\n",
       "    <tr>\n",
       "      <th>0</th>\n",
       "      <td>5600000.0</td>\n",
       "      <td>Noida Extension, Noida, Delhi NCR</td>\n",
       "      <td>1350.0</td>\n",
       "      <td>28.608850</td>\n",
       "      <td>77.460560</td>\n",
       "      <td>3.0</td>\n",
       "      <td>3.0</td>\n",
       "      <td>NaN</td>\n",
       "      <td>Under Construction</td>\n",
       "      <td>New Property</td>\n",
       "      <td>NaN</td>\n",
       "      <td>NaN</td>\n",
       "      <td>2.0</td>\n",
       "      <td>Flat</td>\n",
       "      <td>\\n\\n\\n                                Welcome ...</td>\n",
       "      <td>4148.148148</td>\n",
       "    </tr>\n",
       "    <tr>\n",
       "      <th>1</th>\n",
       "      <td>8800000.0</td>\n",
       "      <td>Sector 79, Gurgaon, Delhi NCR</td>\n",
       "      <td>1490.0</td>\n",
       "      <td>28.374236</td>\n",
       "      <td>76.952416</td>\n",
       "      <td>3.0</td>\n",
       "      <td>3.0</td>\n",
       "      <td>NaN</td>\n",
       "      <td>Ready to Move</td>\n",
       "      <td>New Property</td>\n",
       "      <td>NaN</td>\n",
       "      <td>Semi-Furnished</td>\n",
       "      <td>2.0</td>\n",
       "      <td>Flat</td>\n",
       "      <td>\\n\\n\\n                                Mapsko M...</td>\n",
       "      <td>5906.040268</td>\n",
       "    </tr>\n",
       "    <tr>\n",
       "      <th>2</th>\n",
       "      <td>16500000.0</td>\n",
       "      <td>Vaishali, Ghaziabad, Delhi NCR</td>\n",
       "      <td>2385.0</td>\n",
       "      <td>28.645769</td>\n",
       "      <td>77.385110</td>\n",
       "      <td>4.0</td>\n",
       "      <td>5.0</td>\n",
       "      <td>NaN</td>\n",
       "      <td>Ready to Move</td>\n",
       "      <td>New Property</td>\n",
       "      <td>1.0</td>\n",
       "      <td>Unfurnished</td>\n",
       "      <td>NaN</td>\n",
       "      <td>Flat</td>\n",
       "      <td>\\n\\n\\n                                This pro...</td>\n",
       "      <td>6918.238994</td>\n",
       "    </tr>\n",
       "    <tr>\n",
       "      <th>3</th>\n",
       "      <td>3810000.0</td>\n",
       "      <td>Link Road, F Block, Sector 50, Noida, Uttar Pr...</td>\n",
       "      <td>1050.0</td>\n",
       "      <td>28.566914</td>\n",
       "      <td>77.436434</td>\n",
       "      <td>2.0</td>\n",
       "      <td>2.0</td>\n",
       "      <td>3.0</td>\n",
       "      <td>NaN</td>\n",
       "      <td>New Property</td>\n",
       "      <td>1.0</td>\n",
       "      <td>Unfurnished</td>\n",
       "      <td>2.0</td>\n",
       "      <td>Flat</td>\n",
       "      <td>\\n\\n\\n                                AIG Roya...</td>\n",
       "      <td>3628.571429</td>\n",
       "    </tr>\n",
       "    <tr>\n",
       "      <th>4</th>\n",
       "      <td>6200000.0</td>\n",
       "      <td>Jaypee Pavilion Court Sector 128, Noida, Secto...</td>\n",
       "      <td>1350.0</td>\n",
       "      <td>28.520732</td>\n",
       "      <td>77.356491</td>\n",
       "      <td>2.0</td>\n",
       "      <td>2.0</td>\n",
       "      <td>3.0</td>\n",
       "      <td>Ready to Move</td>\n",
       "      <td>Resale</td>\n",
       "      <td>1.0</td>\n",
       "      <td>NaN</td>\n",
       "      <td>3.0</td>\n",
       "      <td>Flat</td>\n",
       "      <td>\\n\\n\\n                                The prop...</td>\n",
       "      <td>4592.592593</td>\n",
       "    </tr>\n",
       "  </tbody>\n",
       "</table>\n",
       "</div>"
      ],
      "text/plain": [
       "        price                                            Address    area  \\\n",
       "0   5600000.0                  Noida Extension, Noida, Delhi NCR  1350.0   \n",
       "1   8800000.0                      Sector 79, Gurgaon, Delhi NCR  1490.0   \n",
       "2  16500000.0                     Vaishali, Ghaziabad, Delhi NCR  2385.0   \n",
       "3   3810000.0  Link Road, F Block, Sector 50, Noida, Uttar Pr...  1050.0   \n",
       "4   6200000.0  Jaypee Pavilion Court Sector 128, Noida, Secto...  1350.0   \n",
       "\n",
       "    latitude  longitude  Bedrooms  Bathrooms  Balcony              Status  \\\n",
       "0  28.608850  77.460560       3.0        3.0      NaN  Under Construction   \n",
       "1  28.374236  76.952416       3.0        3.0      NaN       Ready to Move   \n",
       "2  28.645769  77.385110       4.0        5.0      NaN       Ready to Move   \n",
       "3  28.566914  77.436434       2.0        2.0      3.0                 NaN   \n",
       "4  28.520732  77.356491       2.0        2.0      3.0       Ready to Move   \n",
       "\n",
       "       neworold  parking Furnished_status  Lift type_of_building  \\\n",
       "0  New Property      NaN              NaN   2.0             Flat   \n",
       "1  New Property      NaN   Semi-Furnished   2.0             Flat   \n",
       "2  New Property      1.0      Unfurnished   NaN             Flat   \n",
       "3  New Property      1.0      Unfurnished   2.0             Flat   \n",
       "4        Resale      1.0              NaN   3.0             Flat   \n",
       "\n",
       "                                                desc   Price_sqft  \n",
       "0  \\n\\n\\n                                Welcome ...  4148.148148  \n",
       "1  \\n\\n\\n                                Mapsko M...  5906.040268  \n",
       "2  \\n\\n\\n                                This pro...  6918.238994  \n",
       "3  \\n\\n\\n                                AIG Roya...  3628.571429  \n",
       "4  \\n\\n\\n                                The prop...  4592.592593  "
      ]
     },
     "execution_count": 24,
     "metadata": {},
     "output_type": "execute_result"
    }
   ],
   "source": [
    "df.head()"
   ]
  },
  {
   "cell_type": "code",
   "execution_count": 25,
   "metadata": {},
   "outputs": [
    {
     "name": "stdout",
     "output_type": "stream",
     "text": [
      "Features with missing values: Index(['Balcony', 'Status', 'parking', 'Furnished_status', 'Lift'], dtype='object')\n",
      "Balcony    0.255096\n",
      "Lift       0.037892\n",
      "parking   -0.041640\n",
      "dtype: float64\n"
     ]
    }
   ],
   "source": [
    "missing_features = df.columns[df.isnull().sum() > 0]\n",
    "print(\"Features with missing values:\", missing_features)\n",
    "# Select only numeric columns from the missing features\n",
    "numeric_missing_features = df[missing_features].select_dtypes(include=[\"number\"])\n",
    "\n",
    "# Compute correlation with price\n",
    "corr_with_price = numeric_missing_features.corrwith(df[\"price\"])\n",
    "\n",
    "# Display correlations\n",
    "print(corr_with_price.sort_values(ascending=False))\n"
   ]
  },
  {
   "cell_type": "code",
   "execution_count": 26,
   "metadata": {},
   "outputs": [],
   "source": [
    "df.drop(columns=[\"Balcony\",\"Lift\",\"parking\"],inplace=True)"
   ]
  },
  {
   "cell_type": "code",
   "execution_count": 27,
   "metadata": {},
   "outputs": [
    {
     "data": {
      "text/plain": [
       "price                  0\n",
       "Address                0\n",
       "area                   0\n",
       "latitude               0\n",
       "longitude              0\n",
       "Bedrooms               0\n",
       "Bathrooms              0\n",
       "Status               574\n",
       "neworold               0\n",
       "Furnished_status    3614\n",
       "type_of_building       0\n",
       "desc                   0\n",
       "Price_sqft             0\n",
       "dtype: int64"
      ]
     },
     "execution_count": 27,
     "metadata": {},
     "output_type": "execute_result"
    }
   ],
   "source": [
    "df.isnull().sum()"
   ]
  },
  {
   "cell_type": "code",
   "execution_count": 18,
   "metadata": {},
   "outputs": [
    {
     "data": {
      "text/plain": [
       "3"
      ]
     },
     "execution_count": 18,
     "metadata": {},
     "output_type": "execute_result"
    }
   ],
   "source": [
    "df[\"Furnished_status\"].nunique()"
   ]
  },
  {
   "cell_type": "code",
   "execution_count": 19,
   "metadata": {},
   "outputs": [
    {
     "data": {
      "text/plain": [
       "array([nan, 'Semi-Furnished', 'Unfurnished', 'Furnished'], dtype=object)"
      ]
     },
     "execution_count": 19,
     "metadata": {},
     "output_type": "execute_result"
    }
   ],
   "source": [
    "df[\"Furnished_status\"].unique()"
   ]
  },
  {
   "cell_type": "code",
   "execution_count": 28,
   "metadata": {},
   "outputs": [
    {
     "data": {
      "text/plain": [
       "price                584\n",
       "Address             4145\n",
       "area                1102\n",
       "latitude            2942\n",
       "longitude           2912\n",
       "Bedrooms               9\n",
       "Bathrooms              9\n",
       "Status                 2\n",
       "neworold               2\n",
       "Furnished_status       3\n",
       "type_of_building       2\n",
       "desc                4181\n",
       "Price_sqft          3946\n",
       "dtype: int64"
      ]
     },
     "execution_count": 28,
     "metadata": {},
     "output_type": "execute_result"
    }
   ],
   "source": [
    "df.nunique()"
   ]
  },
  {
   "cell_type": "code",
   "execution_count": 31,
   "metadata": {},
   "outputs": [],
   "source": [
    "df.drop(columns=[\"Status\"],inplace=True)"
   ]
  },
  {
   "cell_type": "code",
   "execution_count": 34,
   "metadata": {},
   "outputs": [
    {
     "data": {
      "text/plain": [
       "price                  0\n",
       "Address                0\n",
       "area                   0\n",
       "latitude               0\n",
       "longitude              0\n",
       "Bedrooms               0\n",
       "Bathrooms              0\n",
       "neworold               0\n",
       "Furnished_status    3614\n",
       "type_of_building       0\n",
       "desc                   0\n",
       "Price_sqft             0\n",
       "dtype: int64"
      ]
     },
     "execution_count": 34,
     "metadata": {},
     "output_type": "execute_result"
    }
   ],
   "source": [
    "df.isnull().sum()"
   ]
  },
  {
   "cell_type": "code",
   "execution_count": 35,
   "metadata": {},
   "outputs": [],
   "source": [
    "df = pd.get_dummies(df, columns=[\"Furnished_status\"], drop_first=True)\n"
   ]
  },
  {
   "cell_type": "code",
   "execution_count": 36,
   "metadata": {},
   "outputs": [
    {
     "name": "stdout",
     "output_type": "stream",
     "text": [
      "<class 'pandas.core.frame.DataFrame'>\n",
      "RangeIndex: 7738 entries, 0 to 7737\n",
      "Data columns (total 13 columns):\n",
      " #   Column                           Non-Null Count  Dtype  \n",
      "---  ------                           --------------  -----  \n",
      " 0   price                            7738 non-null   float64\n",
      " 1   Address                          7738 non-null   object \n",
      " 2   area                             7738 non-null   float64\n",
      " 3   latitude                         7738 non-null   float64\n",
      " 4   longitude                        7738 non-null   float64\n",
      " 5   Bedrooms                         7738 non-null   float64\n",
      " 6   Bathrooms                        7738 non-null   float64\n",
      " 7   neworold                         7738 non-null   object \n",
      " 8   type_of_building                 7738 non-null   object \n",
      " 9   desc                             7738 non-null   object \n",
      " 10  Price_sqft                       7738 non-null   float64\n",
      " 11  Furnished_status_Semi-Furnished  7738 non-null   bool   \n",
      " 12  Furnished_status_Unfurnished     7738 non-null   bool   \n",
      "dtypes: bool(2), float64(7), object(4)\n",
      "memory usage: 680.2+ KB\n"
     ]
    }
   ],
   "source": [
    "df.info()"
   ]
  },
  {
   "cell_type": "code",
   "execution_count": 37,
   "metadata": {},
   "outputs": [
    {
     "data": {
      "text/plain": [
       "price                              0\n",
       "Address                            0\n",
       "area                               0\n",
       "latitude                           0\n",
       "longitude                          0\n",
       "Bedrooms                           0\n",
       "Bathrooms                          0\n",
       "neworold                           0\n",
       "type_of_building                   0\n",
       "desc                               0\n",
       "Price_sqft                         0\n",
       "Furnished_status_Semi-Furnished    0\n",
       "Furnished_status_Unfurnished       0\n",
       "dtype: int64"
      ]
     },
     "execution_count": 37,
     "metadata": {},
     "output_type": "execute_result"
    }
   ],
   "source": [
    "df.isnull().sum()"
   ]
  },
  {
   "cell_type": "code",
   "execution_count": 38,
   "metadata": {},
   "outputs": [
    {
     "name": "stdout",
     "output_type": "stream",
     "text": [
      "<class 'pandas.core.frame.DataFrame'>\n",
      "RangeIndex: 7738 entries, 0 to 7737\n",
      "Data columns (total 13 columns):\n",
      " #   Column                           Non-Null Count  Dtype  \n",
      "---  ------                           --------------  -----  \n",
      " 0   price                            7738 non-null   float64\n",
      " 1   Address                          7738 non-null   object \n",
      " 2   area                             7738 non-null   float64\n",
      " 3   latitude                         7738 non-null   float64\n",
      " 4   longitude                        7738 non-null   float64\n",
      " 5   Bedrooms                         7738 non-null   float64\n",
      " 6   Bathrooms                        7738 non-null   float64\n",
      " 7   neworold                         7738 non-null   object \n",
      " 8   type_of_building                 7738 non-null   object \n",
      " 9   desc                             7738 non-null   object \n",
      " 10  Price_sqft                       7738 non-null   float64\n",
      " 11  Furnished_status_Semi-Furnished  7738 non-null   bool   \n",
      " 12  Furnished_status_Unfurnished     7738 non-null   bool   \n",
      "dtypes: bool(2), float64(7), object(4)\n",
      "memory usage: 680.2+ KB\n"
     ]
    }
   ],
   "source": [
    "df.info()"
   ]
  },
  {
   "cell_type": "code",
   "execution_count": 39,
   "metadata": {},
   "outputs": [
    {
     "data": {
      "text/html": [
       "<div>\n",
       "<style scoped>\n",
       "    .dataframe tbody tr th:only-of-type {\n",
       "        vertical-align: middle;\n",
       "    }\n",
       "\n",
       "    .dataframe tbody tr th {\n",
       "        vertical-align: top;\n",
       "    }\n",
       "\n",
       "    .dataframe thead th {\n",
       "        text-align: right;\n",
       "    }\n",
       "</style>\n",
       "<table border=\"1\" class=\"dataframe\">\n",
       "  <thead>\n",
       "    <tr style=\"text-align: right;\">\n",
       "      <th></th>\n",
       "      <th>price</th>\n",
       "      <th>area</th>\n",
       "      <th>latitude</th>\n",
       "      <th>longitude</th>\n",
       "      <th>Bedrooms</th>\n",
       "      <th>Bathrooms</th>\n",
       "      <th>Price_sqft</th>\n",
       "    </tr>\n",
       "  </thead>\n",
       "  <tbody>\n",
       "    <tr>\n",
       "      <th>count</th>\n",
       "      <td>7.738000e+03</td>\n",
       "      <td>7738.000000</td>\n",
       "      <td>7738.000000</td>\n",
       "      <td>7738.000000</td>\n",
       "      <td>7738.000000</td>\n",
       "      <td>7738.000000</td>\n",
       "      <td>7738.000000</td>\n",
       "    </tr>\n",
       "    <tr>\n",
       "      <th>mean</th>\n",
       "      <td>8.320635e+06</td>\n",
       "      <td>1409.506591</td>\n",
       "      <td>28.552092</td>\n",
       "      <td>77.273476</td>\n",
       "      <td>2.708193</td>\n",
       "      <td>2.501163</td>\n",
       "      <td>5543.660241</td>\n",
       "    </tr>\n",
       "    <tr>\n",
       "      <th>std</th>\n",
       "      <td>7.223197e+06</td>\n",
       "      <td>718.929581</td>\n",
       "      <td>0.107420</td>\n",
       "      <td>0.180606</td>\n",
       "      <td>0.877026</td>\n",
       "      <td>0.867050</td>\n",
       "      <td>2408.659307</td>\n",
       "    </tr>\n",
       "    <tr>\n",
       "      <th>min</th>\n",
       "      <td>1.700000e+06</td>\n",
       "      <td>501.000000</td>\n",
       "      <td>28.240023</td>\n",
       "      <td>76.884101</td>\n",
       "      <td>2.000000</td>\n",
       "      <td>2.000000</td>\n",
       "      <td>2100.000000</td>\n",
       "    </tr>\n",
       "    <tr>\n",
       "      <th>25%</th>\n",
       "      <td>4.200000e+06</td>\n",
       "      <td>990.000000</td>\n",
       "      <td>28.455539</td>\n",
       "      <td>77.078590</td>\n",
       "      <td>2.000000</td>\n",
       "      <td>2.000000</td>\n",
       "      <td>3950.986915</td>\n",
       "    </tr>\n",
       "    <tr>\n",
       "      <th>50%</th>\n",
       "      <td>6.000000e+06</td>\n",
       "      <td>1250.000000</td>\n",
       "      <td>28.574637</td>\n",
       "      <td>77.345320</td>\n",
       "      <td>3.000000</td>\n",
       "      <td>2.000000</td>\n",
       "      <td>4972.674332</td>\n",
       "    </tr>\n",
       "    <tr>\n",
       "      <th>75%</th>\n",
       "      <td>9.500000e+06</td>\n",
       "      <td>1650.000000</td>\n",
       "      <td>28.642520</td>\n",
       "      <td>77.421054</td>\n",
       "      <td>3.000000</td>\n",
       "      <td>3.000000</td>\n",
       "      <td>6350.638693</td>\n",
       "    </tr>\n",
       "    <tr>\n",
       "      <th>max</th>\n",
       "      <td>8.500000e+07</td>\n",
       "      <td>9500.000000</td>\n",
       "      <td>28.799748</td>\n",
       "      <td>77.688028</td>\n",
       "      <td>10.000000</td>\n",
       "      <td>10.000000</td>\n",
       "      <td>44378.698225</td>\n",
       "    </tr>\n",
       "  </tbody>\n",
       "</table>\n",
       "</div>"
      ],
      "text/plain": [
       "              price         area     latitude    longitude     Bedrooms  \\\n",
       "count  7.738000e+03  7738.000000  7738.000000  7738.000000  7738.000000   \n",
       "mean   8.320635e+06  1409.506591    28.552092    77.273476     2.708193   \n",
       "std    7.223197e+06   718.929581     0.107420     0.180606     0.877026   \n",
       "min    1.700000e+06   501.000000    28.240023    76.884101     2.000000   \n",
       "25%    4.200000e+06   990.000000    28.455539    77.078590     2.000000   \n",
       "50%    6.000000e+06  1250.000000    28.574637    77.345320     3.000000   \n",
       "75%    9.500000e+06  1650.000000    28.642520    77.421054     3.000000   \n",
       "max    8.500000e+07  9500.000000    28.799748    77.688028    10.000000   \n",
       "\n",
       "         Bathrooms    Price_sqft  \n",
       "count  7738.000000   7738.000000  \n",
       "mean      2.501163   5543.660241  \n",
       "std       0.867050   2408.659307  \n",
       "min       2.000000   2100.000000  \n",
       "25%       2.000000   3950.986915  \n",
       "50%       2.000000   4972.674332  \n",
       "75%       3.000000   6350.638693  \n",
       "max      10.000000  44378.698225  "
      ]
     },
     "execution_count": 39,
     "metadata": {},
     "output_type": "execute_result"
    }
   ],
   "source": [
    "df.describe()"
   ]
  },
  {
   "cell_type": "code",
   "execution_count": 40,
   "metadata": {},
   "outputs": [
    {
     "name": "stdout",
     "output_type": "stream",
     "text": [
      "We have 9 numerical features : ['price', 'area', 'latitude', 'longitude', 'Bedrooms', 'Bathrooms', 'Price_sqft', 'Furnished_status_Semi-Furnished', 'Furnished_status_Unfurnished']\n",
      "\n",
      "We have 4 categorical features : ['Address', 'neworold', 'type_of_building', 'desc']\n"
     ]
    }
   ],
   "source": [
    "# define numerical & categorical columns\n",
    "numeric_features = [feature for feature in df.columns if df[feature].dtype != 'O']\n",
    "categorical_features = [feature for feature in df.columns if df[feature].dtype == 'O']\n",
    "\n",
    "# print columns\n",
    "print('We have {} numerical features : {}'.format(len(numeric_features), numeric_features))\n",
    "print('\\nWe have {} categorical features : {}'.format(len(categorical_features), categorical_features))"
   ]
  },
  {
   "cell_type": "code",
   "execution_count": 41,
   "metadata": {},
   "outputs": [
    {
     "data": {
      "text/plain": [
       "price                               584\n",
       "Address                            4145\n",
       "area                               1102\n",
       "latitude                           2942\n",
       "longitude                          2912\n",
       "Bedrooms                              9\n",
       "Bathrooms                             9\n",
       "neworold                              2\n",
       "type_of_building                      2\n",
       "desc                               4181\n",
       "Price_sqft                         3946\n",
       "Furnished_status_Semi-Furnished       2\n",
       "Furnished_status_Unfurnished          2\n",
       "dtype: int64"
      ]
     },
     "execution_count": 41,
     "metadata": {},
     "output_type": "execute_result"
    }
   ],
   "source": [
    "df.nunique()"
   ]
  },
  {
   "cell_type": "code",
   "execution_count": 42,
   "metadata": {},
   "outputs": [],
   "source": [
    "df.drop(columns=[\"Address\"],inplace=True)"
   ]
  },
  {
   "cell_type": "code",
   "execution_count": 43,
   "metadata": {},
   "outputs": [
    {
     "data": {
      "text/plain": [
       "price                               584\n",
       "area                               1102\n",
       "latitude                           2942\n",
       "longitude                          2912\n",
       "Bedrooms                              9\n",
       "Bathrooms                             9\n",
       "neworold                              2\n",
       "type_of_building                      2\n",
       "desc                               4181\n",
       "Price_sqft                         3946\n",
       "Furnished_status_Semi-Furnished       2\n",
       "Furnished_status_Unfurnished          2\n",
       "dtype: int64"
      ]
     },
     "execution_count": 43,
     "metadata": {},
     "output_type": "execute_result"
    }
   ],
   "source": [
    "df.nunique()"
   ]
  },
  {
   "cell_type": "code",
   "execution_count": 44,
   "metadata": {},
   "outputs": [
    {
     "data": {
      "text/plain": [
       "array(['New Property', 'Resale'], dtype=object)"
      ]
     },
     "execution_count": 44,
     "metadata": {},
     "output_type": "execute_result"
    }
   ],
   "source": [
    "df[\"neworold\"].unique()"
   ]
  },
  {
   "cell_type": "code",
   "execution_count": 46,
   "metadata": {},
   "outputs": [
    {
     "data": {
      "text/plain": [
       "array(['Flat', 'Individual House'], dtype=object)"
      ]
     },
     "execution_count": 46,
     "metadata": {},
     "output_type": "execute_result"
    }
   ],
   "source": [
    "df[\"type_of_building\"].unique()"
   ]
  },
  {
   "cell_type": "code",
   "execution_count": 47,
   "metadata": {},
   "outputs": [
    {
     "data": {
      "text/html": [
       "<div>\n",
       "<style scoped>\n",
       "    .dataframe tbody tr th:only-of-type {\n",
       "        vertical-align: middle;\n",
       "    }\n",
       "\n",
       "    .dataframe tbody tr th {\n",
       "        vertical-align: top;\n",
       "    }\n",
       "\n",
       "    .dataframe thead th {\n",
       "        text-align: right;\n",
       "    }\n",
       "</style>\n",
       "<table border=\"1\" class=\"dataframe\">\n",
       "  <thead>\n",
       "    <tr style=\"text-align: right;\">\n",
       "      <th></th>\n",
       "      <th>price</th>\n",
       "      <th>area</th>\n",
       "      <th>latitude</th>\n",
       "      <th>longitude</th>\n",
       "      <th>Bedrooms</th>\n",
       "      <th>Bathrooms</th>\n",
       "      <th>neworold</th>\n",
       "      <th>type_of_building</th>\n",
       "      <th>desc</th>\n",
       "      <th>Price_sqft</th>\n",
       "      <th>Furnished_status_Semi-Furnished</th>\n",
       "      <th>Furnished_status_Unfurnished</th>\n",
       "    </tr>\n",
       "  </thead>\n",
       "  <tbody>\n",
       "    <tr>\n",
       "      <th>0</th>\n",
       "      <td>5600000.0</td>\n",
       "      <td>1350.0</td>\n",
       "      <td>28.608850</td>\n",
       "      <td>77.460560</td>\n",
       "      <td>3.0</td>\n",
       "      <td>3.0</td>\n",
       "      <td>New Property</td>\n",
       "      <td>Flat</td>\n",
       "      <td>\\n\\n\\n                                Welcome ...</td>\n",
       "      <td>4148.148148</td>\n",
       "      <td>False</td>\n",
       "      <td>False</td>\n",
       "    </tr>\n",
       "    <tr>\n",
       "      <th>1</th>\n",
       "      <td>8800000.0</td>\n",
       "      <td>1490.0</td>\n",
       "      <td>28.374236</td>\n",
       "      <td>76.952416</td>\n",
       "      <td>3.0</td>\n",
       "      <td>3.0</td>\n",
       "      <td>New Property</td>\n",
       "      <td>Flat</td>\n",
       "      <td>\\n\\n\\n                                Mapsko M...</td>\n",
       "      <td>5906.040268</td>\n",
       "      <td>True</td>\n",
       "      <td>False</td>\n",
       "    </tr>\n",
       "    <tr>\n",
       "      <th>2</th>\n",
       "      <td>16500000.0</td>\n",
       "      <td>2385.0</td>\n",
       "      <td>28.645769</td>\n",
       "      <td>77.385110</td>\n",
       "      <td>4.0</td>\n",
       "      <td>5.0</td>\n",
       "      <td>New Property</td>\n",
       "      <td>Flat</td>\n",
       "      <td>\\n\\n\\n                                This pro...</td>\n",
       "      <td>6918.238994</td>\n",
       "      <td>False</td>\n",
       "      <td>True</td>\n",
       "    </tr>\n",
       "    <tr>\n",
       "      <th>3</th>\n",
       "      <td>3810000.0</td>\n",
       "      <td>1050.0</td>\n",
       "      <td>28.566914</td>\n",
       "      <td>77.436434</td>\n",
       "      <td>2.0</td>\n",
       "      <td>2.0</td>\n",
       "      <td>New Property</td>\n",
       "      <td>Flat</td>\n",
       "      <td>\\n\\n\\n                                AIG Roya...</td>\n",
       "      <td>3628.571429</td>\n",
       "      <td>False</td>\n",
       "      <td>True</td>\n",
       "    </tr>\n",
       "    <tr>\n",
       "      <th>4</th>\n",
       "      <td>6200000.0</td>\n",
       "      <td>1350.0</td>\n",
       "      <td>28.520732</td>\n",
       "      <td>77.356491</td>\n",
       "      <td>2.0</td>\n",
       "      <td>2.0</td>\n",
       "      <td>Resale</td>\n",
       "      <td>Flat</td>\n",
       "      <td>\\n\\n\\n                                The prop...</td>\n",
       "      <td>4592.592593</td>\n",
       "      <td>False</td>\n",
       "      <td>False</td>\n",
       "    </tr>\n",
       "  </tbody>\n",
       "</table>\n",
       "</div>"
      ],
      "text/plain": [
       "        price    area   latitude  longitude  Bedrooms  Bathrooms  \\\n",
       "0   5600000.0  1350.0  28.608850  77.460560       3.0        3.0   \n",
       "1   8800000.0  1490.0  28.374236  76.952416       3.0        3.0   \n",
       "2  16500000.0  2385.0  28.645769  77.385110       4.0        5.0   \n",
       "3   3810000.0  1050.0  28.566914  77.436434       2.0        2.0   \n",
       "4   6200000.0  1350.0  28.520732  77.356491       2.0        2.0   \n",
       "\n",
       "       neworold type_of_building  \\\n",
       "0  New Property             Flat   \n",
       "1  New Property             Flat   \n",
       "2  New Property             Flat   \n",
       "3  New Property             Flat   \n",
       "4        Resale             Flat   \n",
       "\n",
       "                                                desc   Price_sqft  \\\n",
       "0  \\n\\n\\n                                Welcome ...  4148.148148   \n",
       "1  \\n\\n\\n                                Mapsko M...  5906.040268   \n",
       "2  \\n\\n\\n                                This pro...  6918.238994   \n",
       "3  \\n\\n\\n                                AIG Roya...  3628.571429   \n",
       "4  \\n\\n\\n                                The prop...  4592.592593   \n",
       "\n",
       "   Furnished_status_Semi-Furnished  Furnished_status_Unfurnished  \n",
       "0                            False                         False  \n",
       "1                             True                         False  \n",
       "2                            False                          True  \n",
       "3                            False                          True  \n",
       "4                            False                         False  "
      ]
     },
     "execution_count": 47,
     "metadata": {},
     "output_type": "execute_result"
    }
   ],
   "source": [
    "df.head()"
   ]
  },
  {
   "cell_type": "code",
   "execution_count": 48,
   "metadata": {},
   "outputs": [],
   "source": [
    "df.drop(columns=[\"desc\"],inplace=True)"
   ]
  },
  {
   "cell_type": "code",
   "execution_count": 49,
   "metadata": {},
   "outputs": [
    {
     "name": "stdout",
     "output_type": "stream",
     "text": [
      "We have 9 numerical features : ['price', 'area', 'latitude', 'longitude', 'Bedrooms', 'Bathrooms', 'Price_sqft', 'Furnished_status_Semi-Furnished', 'Furnished_status_Unfurnished']\n",
      "\n",
      "We have 2 categorical features : ['neworold', 'type_of_building']\n"
     ]
    }
   ],
   "source": [
    "# define numerical & categorical columns\n",
    "numeric_features = [feature for feature in df.columns if df[feature].dtype != 'O']\n",
    "categorical_features = [feature for feature in df.columns if df[feature].dtype == 'O']\n",
    "\n",
    "# print columns\n",
    "print('We have {} numerical features : {}'.format(len(numeric_features), numeric_features))\n",
    "print('\\nWe have {} categorical features : {}'.format(len(categorical_features), categorical_features))"
   ]
  },
  {
   "cell_type": "code",
   "execution_count": 51,
   "metadata": {},
   "outputs": [],
   "source": [
    "df.to_csv(\"dataset\\cleaned.csv\")"
   ]
  },
  {
   "cell_type": "code",
   "execution_count": 14,
   "metadata": {},
   "outputs": [],
   "source": [
    "import pandas as pd\n",
    "df1 = pd.read_csv(\"dataset/cleaned3.csv\")"
   ]
  },
  {
   "cell_type": "code",
   "execution_count": 16,
   "metadata": {},
   "outputs": [
    {
     "data": {
      "text/plain": [
       "array(['Flat', 'Individual House'], dtype=object)"
      ]
     },
     "execution_count": 16,
     "metadata": {},
     "output_type": "execute_result"
    }
   ],
   "source": [
    "df1[\"type_of_building\"].unique()"
   ]
  },
  {
   "cell_type": "code",
   "execution_count": 11,
   "metadata": {},
   "outputs": [],
   "source": [
    "# df1.drop(columns=[\"Price_sqft\"],inplace=True)\n",
    "df1 = df1.rename(columns={\"Furnished_status_Semi-Furnished\":\"Furnished_status_Semi_Furnished\"})"
   ]
  },
  {
   "cell_type": "code",
   "execution_count": 12,
   "metadata": {},
   "outputs": [
    {
     "name": "stdout",
     "output_type": "stream",
     "text": [
      "<class 'pandas.core.frame.DataFrame'>\n",
      "RangeIndex: 7738 entries, 0 to 7737\n",
      "Data columns (total 10 columns):\n",
      " #   Column                           Non-Null Count  Dtype  \n",
      "---  ------                           --------------  -----  \n",
      " 0   price                            7738 non-null   float64\n",
      " 1   area                             7738 non-null   float64\n",
      " 2   latitude                         7738 non-null   float64\n",
      " 3   longitude                        7738 non-null   float64\n",
      " 4   Bedrooms                         7738 non-null   float64\n",
      " 5   Bathrooms                        7738 non-null   float64\n",
      " 6   neworold                         7738 non-null   object \n",
      " 7   type_of_building                 7738 non-null   object \n",
      " 8   Furnished_status_Semi_Furnished  7738 non-null   bool   \n",
      " 9   Furnished_status_Unfurnished     7738 non-null   bool   \n",
      "dtypes: bool(2), float64(6), object(2)\n",
      "memory usage: 498.9+ KB\n"
     ]
    }
   ],
   "source": [
    "df1.info()"
   ]
  },
  {
   "cell_type": "code",
   "execution_count": 13,
   "metadata": {},
   "outputs": [],
   "source": [
    "df1.to_csv(\"dataset/cleaned3.csv\",index=False)"
   ]
  },
  {
   "cell_type": "code",
   "execution_count": null,
   "metadata": {},
   "outputs": [],
   "source": []
  }
 ],
 "metadata": {
  "kernelspec": {
   "display_name": "Python 3",
   "language": "python",
   "name": "python3"
  },
  "language_info": {
   "codemirror_mode": {
    "name": "ipython",
    "version": 3
   },
   "file_extension": ".py",
   "mimetype": "text/x-python",
   "name": "python",
   "nbconvert_exporter": "python",
   "pygments_lexer": "ipython3",
   "version": "3.8.0"
  }
 },
 "nbformat": 4,
 "nbformat_minor": 2
}
